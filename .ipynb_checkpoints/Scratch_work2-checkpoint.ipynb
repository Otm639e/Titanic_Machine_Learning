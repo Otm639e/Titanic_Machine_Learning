{
 "cells": [
  {
   "cell_type": "code",
   "execution_count": 1,
   "id": "1af71740",
   "metadata": {},
   "outputs": [],
   "source": [
    "%%capture\n",
    "%run Neural_network.ipynb"
   ]
  },
  {
   "cell_type": "code",
   "execution_count": 2,
   "id": "9ff62c44",
   "metadata": {},
   "outputs": [],
   "source": []
  },
  {
   "cell_type": "code",
   "execution_count": 3,
   "id": "3201fd2f",
   "metadata": {},
   "outputs": [
    {
     "data": {
      "text/html": [
       "<div>\n",
       "<style scoped>\n",
       "    .dataframe tbody tr th:only-of-type {\n",
       "        vertical-align: middle;\n",
       "    }\n",
       "\n",
       "    .dataframe tbody tr th {\n",
       "        vertical-align: top;\n",
       "    }\n",
       "\n",
       "    .dataframe thead th {\n",
       "        text-align: right;\n",
       "    }\n",
       "</style>\n",
       "<table border=\"1\" class=\"dataframe\">\n",
       "  <thead>\n",
       "    <tr style=\"text-align: right;\">\n",
       "      <th></th>\n",
       "      <th>Pclass</th>\n",
       "      <th>Sex</th>\n",
       "      <th>Fare</th>\n",
       "      <th>Family_num</th>\n",
       "    </tr>\n",
       "  </thead>\n",
       "  <tbody>\n",
       "    <tr>\n",
       "      <th>0</th>\n",
       "      <td>3</td>\n",
       "      <td>1</td>\n",
       "      <td>7.2500</td>\n",
       "      <td>1</td>\n",
       "    </tr>\n",
       "    <tr>\n",
       "      <th>1</th>\n",
       "      <td>1</td>\n",
       "      <td>0</td>\n",
       "      <td>71.2833</td>\n",
       "      <td>1</td>\n",
       "    </tr>\n",
       "    <tr>\n",
       "      <th>2</th>\n",
       "      <td>3</td>\n",
       "      <td>0</td>\n",
       "      <td>7.9250</td>\n",
       "      <td>0</td>\n",
       "    </tr>\n",
       "    <tr>\n",
       "      <th>3</th>\n",
       "      <td>1</td>\n",
       "      <td>0</td>\n",
       "      <td>53.1000</td>\n",
       "      <td>1</td>\n",
       "    </tr>\n",
       "    <tr>\n",
       "      <th>4</th>\n",
       "      <td>3</td>\n",
       "      <td>1</td>\n",
       "      <td>8.0500</td>\n",
       "      <td>0</td>\n",
       "    </tr>\n",
       "    <tr>\n",
       "      <th>5</th>\n",
       "      <td>3</td>\n",
       "      <td>1</td>\n",
       "      <td>8.4583</td>\n",
       "      <td>0</td>\n",
       "    </tr>\n",
       "    <tr>\n",
       "      <th>6</th>\n",
       "      <td>1</td>\n",
       "      <td>1</td>\n",
       "      <td>51.8625</td>\n",
       "      <td>0</td>\n",
       "    </tr>\n",
       "    <tr>\n",
       "      <th>7</th>\n",
       "      <td>3</td>\n",
       "      <td>1</td>\n",
       "      <td>21.0750</td>\n",
       "      <td>4</td>\n",
       "    </tr>\n",
       "    <tr>\n",
       "      <th>8</th>\n",
       "      <td>3</td>\n",
       "      <td>0</td>\n",
       "      <td>11.1333</td>\n",
       "      <td>2</td>\n",
       "    </tr>\n",
       "    <tr>\n",
       "      <th>9</th>\n",
       "      <td>2</td>\n",
       "      <td>0</td>\n",
       "      <td>30.0708</td>\n",
       "      <td>1</td>\n",
       "    </tr>\n",
       "  </tbody>\n",
       "</table>\n",
       "</div>"
      ],
      "text/plain": [
       "   Pclass  Sex     Fare  Family_num\n",
       "0       3    1   7.2500           1\n",
       "1       1    0  71.2833           1\n",
       "2       3    0   7.9250           0\n",
       "3       1    0  53.1000           1\n",
       "4       3    1   8.0500           0\n",
       "5       3    1   8.4583           0\n",
       "6       1    1  51.8625           0\n",
       "7       3    1  21.0750           4\n",
       "8       3    0  11.1333           2\n",
       "9       2    0  30.0708           1"
      ]
     },
     "execution_count": 3,
     "metadata": {},
     "output_type": "execute_result"
    }
   ],
   "source": [
    "train_data.drop(['Survived'], axis = 1).head(10)"
   ]
  },
  {
   "cell_type": "code",
   "execution_count": 4,
   "id": "409f33fb",
   "metadata": {},
   "outputs": [],
   "source": [
    "X_neigh = train_data.drop(['Survived', 'Family_num'], axis = 1).to_numpy()\n",
    "X_test_neigh = test_data.drop(['Family_num'], axis = 1)\n",
    "Y_neigh = train_data['Survived'].to_numpy()"
   ]
  },
  {
   "cell_type": "code",
   "execution_count": 5,
   "id": "2f25fd28",
   "metadata": {},
   "outputs": [
    {
     "data": {
      "text/plain": [
       "0.7958052434456928"
      ]
     },
     "execution_count": 5,
     "metadata": {},
     "output_type": "execute_result"
    }
   ],
   "source": [
    "neigh_model = KNeighborsClassifier(n_neighbors=7, leaf_size=4, p=1)\n",
    "np.mean(cross_val_score(neigh_model, X_neigh, Y_neigh, cv=10, scoring='accuracy'))\n",
    "# 0.7958052434456928"
   ]
  },
  {
   "cell_type": "code",
   "execution_count": 6,
   "id": "6e0e040d",
   "metadata": {},
   "outputs": [
    {
     "name": "stdout",
     "output_type": "stream",
     "text": [
      "max k:  7\n"
     ]
    },
    {
     "data": {
      "image/png": "[encoded data removed]",
      "text/plain": [
       "<Figure size 432x288 with 1 Axes>"
      ]
     },
     "metadata": {
      "needs_background": "light"
     },
     "output_type": "display_data"
    }
   ],
   "source": [
    "# choose k between 1 to 31\n",
    "k_range = range(1,31)\n",
    "k_scores = []\n",
    "max_k_neigh = 1\n",
    "max_score_neigh = 0\n",
    "# use iteration to caclulator different k in models, then return the average accuracy based on the cross validation\n",
    "for k in k_range:\n",
    "    knn = KNeighborsClassifier(n_neighbors=k, leaf_size=4, p=1)\n",
    "    scores = cross_val_score(knn, X_neigh, Y_neigh, cv=10, scoring='accuracy')\n",
    "    if scores.mean()>max_score_neigh:\n",
    "        max_score_neigh = scores.mean()\n",
    "        max_k_neigh = k\n",
    "    k_scores.append(scores.mean())\n",
    "print(\"max k: \", max_k_neigh)\n",
    "# plot to see clearly\n",
    "plt.plot(k_range, k_scores)\n",
    "plt.xlabel('Value of K for KNN')\n",
    "plt.ylabel('Cross-Validated Accuracy')\n",
    "plt.show()"
   ]
  },
  {
   "cell_type": "code",
   "execution_count": 7,
   "id": "5f8a03c8",
   "metadata": {},
   "outputs": [],
   "source": [
    "neigh_model.fit(X_neigh, Y_neigh);"
   ]
  },
  {
   "cell_type": "code",
   "execution_count": 8,
   "id": "bef1cc91",
   "metadata": {},
   "outputs": [
    {
     "data": {
      "text/html": [
       "<div>\n",
       "<style scoped>\n",
       "    .dataframe tbody tr th:only-of-type {\n",
       "        vertical-align: middle;\n",
       "    }\n",
       "\n",
       "    .dataframe tbody tr th {\n",
       "        vertical-align: top;\n",
       "    }\n",
       "\n",
       "    .dataframe thead th {\n",
       "        text-align: right;\n",
       "    }\n",
       "</style>\n",
       "<table border=\"1\" class=\"dataframe\">\n",
       "  <thead>\n",
       "    <tr style=\"text-align: right;\">\n",
       "      <th></th>\n",
       "      <th>PassengerId</th>\n",
       "      <th>Survived</th>\n",
       "    </tr>\n",
       "  </thead>\n",
       "  <tbody>\n",
       "    <tr>\n",
       "      <th>0</th>\n",
       "      <td>892</td>\n",
       "      <td>0</td>\n",
       "    </tr>\n",
       "    <tr>\n",
       "      <th>1</th>\n",
       "      <td>893</td>\n",
       "      <td>1</td>\n",
       "    </tr>\n",
       "    <tr>\n",
       "      <th>2</th>\n",
       "      <td>894</td>\n",
       "      <td>0</td>\n",
       "    </tr>\n",
       "    <tr>\n",
       "      <th>3</th>\n",
       "      <td>895</td>\n",
       "      <td>0</td>\n",
       "    </tr>\n",
       "    <tr>\n",
       "      <th>4</th>\n",
       "      <td>896</td>\n",
       "      <td>1</td>\n",
       "    </tr>\n",
       "    <tr>\n",
       "      <th>...</th>\n",
       "      <td>...</td>\n",
       "      <td>...</td>\n",
       "    </tr>\n",
       "    <tr>\n",
       "      <th>413</th>\n",
       "      <td>1305</td>\n",
       "      <td>0</td>\n",
       "    </tr>\n",
       "    <tr>\n",
       "      <th>414</th>\n",
       "      <td>1306</td>\n",
       "      <td>1</td>\n",
       "    </tr>\n",
       "    <tr>\n",
       "      <th>415</th>\n",
       "      <td>1307</td>\n",
       "      <td>0</td>\n",
       "    </tr>\n",
       "    <tr>\n",
       "      <th>416</th>\n",
       "      <td>1308</td>\n",
       "      <td>0</td>\n",
       "    </tr>\n",
       "    <tr>\n",
       "      <th>417</th>\n",
       "      <td>1309</td>\n",
       "      <td>0</td>\n",
       "    </tr>\n",
       "  </tbody>\n",
       "</table>\n",
       "<p>418 rows × 2 columns</p>\n",
       "</div>"
      ],
      "text/plain": [
       "     PassengerId  Survived\n",
       "0            892         0\n",
       "1            893         1\n",
       "2            894         0\n",
       "3            895         0\n",
       "4            896         1\n",
       "..           ...       ...\n",
       "413         1305         0\n",
       "414         1306         1\n",
       "415         1307         0\n",
       "416         1308         0\n",
       "417         1309         0\n",
       "\n",
       "[418 rows x 2 columns]"
      ]
     },
     "execution_count": 8,
     "metadata": {},
     "output_type": "execute_result"
    }
   ],
   "source": [
    "Y_test_pred_neigh = neigh_model.predict(X_test_neigh[['Pclass', 'Sex', 'Fare']].to_numpy())\n",
    "predictions_neigh = pd.DataFrame(data={'PassengerId':test_data['PassengerId'], 'Survived': Y_test_pred_neigh})\n",
    "predictions_neigh"
   ]
  },
  {
   "cell_type": "code",
   "execution_count": 9,
   "id": "788981a6",
   "metadata": {},
   "outputs": [
    {
     "data": {
      "text/plain": [
       "71"
      ]
     },
     "execution_count": 9,
     "metadata": {},
     "output_type": "execute_result"
    }
   ],
   "source": [
    "sum(abs(predictions4['Survived']-predictions1['Survived']))"
   ]
  },
  {
   "cell_type": "code",
   "execution_count": null,
   "id": "b59ca3f6",
   "metadata": {},
   "outputs": [],
   "source": []
  },
  {
   "cell_type": "markdown",
   "id": "9f9afb79",
   "metadata": {},
   "source": [
    "## Starting Ensembling"
   ]
  },
  {
   "cell_type": "code",
   "execution_count": 10,
   "id": "7138b661",
   "metadata": {},
   "outputs": [],
   "source": [
    "# Choosing the desition tree, the second Neural Network, and the 7-nearest neighbors models\n",
    "mix_prediction = predictions4['Survived']+predictions1['Survived']+predictions_neigh['Survived']\n",
    "final_predictions_submit = [1 if x > 1.5 else 0 for x in list(mix_prediction)]\n",
    "final_predictions_submit = pd.DataFrame(data={'PassengerId':test_data['PassengerId'], 'Survived': final_predictions_submit})\n",
    "\n",
    "\n",
    "# My chosen submitions (Ensemble):\n",
    "# 1) predictions4['Survived']+predictions1['Survived']\n",
    "# 2) predictions4['Survived']+predictions1['Survived']+predictions_neigh['Survived']"
   ]
  },
  {
   "cell_type": "code",
   "execution_count": 11,
   "id": "090e69d6",
   "metadata": {},
   "outputs": [],
   "source": [
    "# exporting my csv file\n",
    "# final_predictions_submit.to_csv('final_sub.csv', index=False)"
   ]
  },
  {
   "cell_type": "markdown",
   "id": "8336960e",
   "metadata": {},
   "source": [
    "### Logistic Regression and the two neural networks had very similar answers"
   ]
  }
 ],
 "metadata": {
  "kernelspec": {
   "display_name": "Python 3",
   "language": "python",
   "name": "python3"
  },
  "language_info": {
   "codemirror_mode": {
    "name": "ipython",
    "version": 3
   },
   "file_extension": ".py",
   "mimetype": "text/x-python",
   "name": "python",
   "nbconvert_exporter": "python",
   "pygments_lexer": "ipython3",
   "version": "3.8.8"
  }
 },
 "nbformat": 4,
 "nbformat_minor": 5
}
