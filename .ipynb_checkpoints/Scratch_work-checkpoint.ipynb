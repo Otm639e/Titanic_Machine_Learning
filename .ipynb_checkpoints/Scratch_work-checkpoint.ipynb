{
 "cells": [
  {
   "cell_type": "code",
   "execution_count": 1,
   "id": "3ea8caa4",
   "metadata": {},
   "outputs": [],
   "source": [
    "%%capture\n",
    "%run Logistic_regression.ipynb\n",
    "train_data = train_data.drop(['Cabin', 'Age', 'Name', 'Embarked','SibSp','Parch','Ticket','PassengerId'], axis=1)\n",
    "test_data = test_data.drop(['Cabin', 'Age', 'Name', 'Embarked','SibSp','Parch','Ticket'], axis=1)"
   ]
  },
  {
   "cell_type": "code",
   "execution_count": 2,
   "id": "47bd6808",
   "metadata": {},
   "outputs": [
    {
     "data": {
      "text/html": [
       "<div>\n",
       "<style scoped>\n",
       "    .dataframe tbody tr th:only-of-type {\n",
       "        vertical-align: middle;\n",
       "    }\n",
       "\n",
       "    .dataframe tbody tr th {\n",
       "        vertical-align: top;\n",
       "    }\n",
       "\n",
       "    .dataframe thead th {\n",
       "        text-align: right;\n",
       "    }\n",
       "</style>\n",
       "<table border=\"1\" class=\"dataframe\">\n",
       "  <thead>\n",
       "    <tr style=\"text-align: right;\">\n",
       "      <th></th>\n",
       "      <th>Survived</th>\n",
       "      <th>Pclass</th>\n",
       "      <th>Sex</th>\n",
       "      <th>Fare</th>\n",
       "      <th>Family_num</th>\n",
       "    </tr>\n",
       "  </thead>\n",
       "  <tbody>\n",
       "    <tr>\n",
       "      <th>0</th>\n",
       "      <td>0</td>\n",
       "      <td>3</td>\n",
       "      <td>1</td>\n",
       "      <td>7.2500</td>\n",
       "      <td>1</td>\n",
       "    </tr>\n",
       "    <tr>\n",
       "      <th>1</th>\n",
       "      <td>1</td>\n",
       "      <td>1</td>\n",
       "      <td>0</td>\n",
       "      <td>71.2833</td>\n",
       "      <td>1</td>\n",
       "    </tr>\n",
       "    <tr>\n",
       "      <th>2</th>\n",
       "      <td>1</td>\n",
       "      <td>3</td>\n",
       "      <td>0</td>\n",
       "      <td>7.9250</td>\n",
       "      <td>0</td>\n",
       "    </tr>\n",
       "    <tr>\n",
       "      <th>3</th>\n",
       "      <td>1</td>\n",
       "      <td>1</td>\n",
       "      <td>0</td>\n",
       "      <td>53.1000</td>\n",
       "      <td>1</td>\n",
       "    </tr>\n",
       "    <tr>\n",
       "      <th>4</th>\n",
       "      <td>0</td>\n",
       "      <td>3</td>\n",
       "      <td>1</td>\n",
       "      <td>8.0500</td>\n",
       "      <td>0</td>\n",
       "    </tr>\n",
       "  </tbody>\n",
       "</table>\n",
       "</div>"
      ],
      "text/plain": [
       "   Survived  Pclass  Sex     Fare  Family_num\n",
       "0         0       3    1   7.2500           1\n",
       "1         1       1    0  71.2833           1\n",
       "2         1       3    0   7.9250           0\n",
       "3         1       1    0  53.1000           1\n",
       "4         0       3    1   8.0500           0"
      ]
     },
     "execution_count": 2,
     "metadata": {},
     "output_type": "execute_result"
    }
   ],
   "source": [
    "train_data.head(5)"
   ]
  },
  {
   "cell_type": "code",
   "execution_count": 3,
   "id": "ec38b11d",
   "metadata": {},
   "outputs": [
    {
     "data": {
      "text/html": [
       "<div>\n",
       "<style scoped>\n",
       "    .dataframe tbody tr th:only-of-type {\n",
       "        vertical-align: middle;\n",
       "    }\n",
       "\n",
       "    .dataframe tbody tr th {\n",
       "        vertical-align: top;\n",
       "    }\n",
       "\n",
       "    .dataframe thead th {\n",
       "        text-align: right;\n",
       "    }\n",
       "</style>\n",
       "<table border=\"1\" class=\"dataframe\">\n",
       "  <thead>\n",
       "    <tr style=\"text-align: right;\">\n",
       "      <th></th>\n",
       "      <th>PassengerId</th>\n",
       "      <th>Pclass</th>\n",
       "      <th>Sex</th>\n",
       "      <th>Fare</th>\n",
       "      <th>Family_num</th>\n",
       "    </tr>\n",
       "  </thead>\n",
       "  <tbody>\n",
       "    <tr>\n",
       "      <th>0</th>\n",
       "      <td>892</td>\n",
       "      <td>3</td>\n",
       "      <td>1</td>\n",
       "      <td>7.8292</td>\n",
       "      <td>0</td>\n",
       "    </tr>\n",
       "    <tr>\n",
       "      <th>1</th>\n",
       "      <td>893</td>\n",
       "      <td>3</td>\n",
       "      <td>0</td>\n",
       "      <td>7.0000</td>\n",
       "      <td>1</td>\n",
       "    </tr>\n",
       "    <tr>\n",
       "      <th>2</th>\n",
       "      <td>894</td>\n",
       "      <td>2</td>\n",
       "      <td>1</td>\n",
       "      <td>9.6875</td>\n",
       "      <td>0</td>\n",
       "    </tr>\n",
       "    <tr>\n",
       "      <th>3</th>\n",
       "      <td>895</td>\n",
       "      <td>3</td>\n",
       "      <td>1</td>\n",
       "      <td>8.6625</td>\n",
       "      <td>0</td>\n",
       "    </tr>\n",
       "    <tr>\n",
       "      <th>4</th>\n",
       "      <td>896</td>\n",
       "      <td>3</td>\n",
       "      <td>0</td>\n",
       "      <td>12.2875</td>\n",
       "      <td>2</td>\n",
       "    </tr>\n",
       "  </tbody>\n",
       "</table>\n",
       "</div>"
      ],
      "text/plain": [
       "   PassengerId  Pclass  Sex     Fare  Family_num\n",
       "0          892       3    1   7.8292           0\n",
       "1          893       3    0   7.0000           1\n",
       "2          894       2    1   9.6875           0\n",
       "3          895       3    1   8.6625           0\n",
       "4          896       3    0  12.2875           2"
      ]
     },
     "execution_count": 3,
     "metadata": {},
     "output_type": "execute_result"
    }
   ],
   "source": [
    "test_data.head(5)"
   ]
  },
  {
   "cell_type": "code",
   "execution_count": 4,
   "id": "8d050eab",
   "metadata": {},
   "outputs": [
    {
     "data": {
      "text/plain": [
       "PassengerId    0\n",
       "Pclass         0\n",
       "Sex            0\n",
       "Fare           1\n",
       "Family_num     0\n",
       "dtype: int64"
      ]
     },
     "execution_count": 4,
     "metadata": {},
     "output_type": "execute_result"
    }
   ],
   "source": [
    "test_data.isna().sum()"
   ]
  },
  {
   "cell_type": "code",
   "execution_count": 5,
   "id": "07e8d51a",
   "metadata": {},
   "outputs": [],
   "source": [
    "# Getting rid of Nan values\n",
    "train_data = train_data.dropna()\n",
    "test_data['Fare'] = test_data['Fare'].replace({np.nan:np.mean(test_data['Fare'])})"
   ]
  },
  {
   "cell_type": "code",
   "execution_count": 6,
   "id": "8948d615",
   "metadata": {},
   "outputs": [],
   "source": [
    "# Getting the X and Y values to fit model\n",
    "vec = DictVectorizer()\n",
    "y_nn = np.array(train_data['Survived'])\n",
    "X_df_nn = train_data.drop(['Survived'], axis = 1)\n",
    "X_dict_nn = X_df_nn.to_dict(\"records\")\n",
    "X_nn = vec.fit_transform(X_dict_nn).toarray()\n",
    "\n",
    "X_test_dict_nn = test_data[['Pclass','Sex','Fare','Family_num']].to_dict(\"records\")\n",
    "X_test_nn = vec.fit_transform(X_test_dict_nn).toarray()"
   ]
  },
  {
   "cell_type": "markdown",
   "id": "27ba0ee3",
   "metadata": {},
   "source": [
    "## Starting first model "
   ]
  },
  {
   "cell_type": "code",
   "execution_count": 7,
   "id": "b4528568",
   "metadata": {},
   "outputs": [],
   "source": [
    "# Building our model\n",
    "neurons = 50\n",
    "nn_clf = MLPClassifier(hidden_layer_sizes=(neurons), max_iter=100,\n",
    "                    solver='lbfgs', verbose=False, random_state=42, activation='logistic')\n",
    "\n",
    "# neurons = 100\n",
    "# nn_clf = MLPClassifier(hidden_layer_sizes=(neurons,neurons), max_iter=200,\n",
    "#                     solver='relu', verbose=False, random_state=42, activation='logistic')"
   ]
  },
  {
   "cell_type": "code",
   "execution_count": 18,
   "id": "59f24c36",
   "metadata": {},
   "outputs": [
    {
     "name": "stderr",
     "output_type": "stream",
     "text": [
      "/Users/omar/opt/anaconda3/lib/python3.8/site-packages/sklearn/neural_network/_multilayer_perceptron.py:500: ConvergenceWarning: lbfgs failed to converge (status=1):\n",
      "STOP: TOTAL NO. of ITERATIONS REACHED LIMIT.\n",
      "\n",
      "Increase the number of iterations (max_iter) or scale the data as shown in:\n",
      "    https://scikit-learn.org/stable/modules/preprocessing.html\n",
      "  self.n_iter_ = _check_optimize_result(\"lbfgs\", opt_res, self.max_iter)\n",
      "/Users/omar/opt/anaconda3/lib/python3.8/site-packages/sklearn/neural_network/_multilayer_perceptron.py:500: ConvergenceWarning: lbfgs failed to converge (status=1):\n",
      "STOP: TOTAL NO. of ITERATIONS REACHED LIMIT.\n",
      "\n",
      "Increase the number of iterations (max_iter) or scale the data as shown in:\n",
      "    https://scikit-learn.org/stable/modules/preprocessing.html\n",
      "  self.n_iter_ = _check_optimize_result(\"lbfgs\", opt_res, self.max_iter)\n",
      "/Users/omar/opt/anaconda3/lib/python3.8/site-packages/sklearn/neural_network/_multilayer_perceptron.py:500: ConvergenceWarning: lbfgs failed to converge (status=1):\n",
      "STOP: TOTAL NO. of ITERATIONS REACHED LIMIT.\n",
      "\n",
      "Increase the number of iterations (max_iter) or scale the data as shown in:\n",
      "    https://scikit-learn.org/stable/modules/preprocessing.html\n",
      "  self.n_iter_ = _check_optimize_result(\"lbfgs\", opt_res, self.max_iter)\n",
      "/Users/omar/opt/anaconda3/lib/python3.8/site-packages/sklearn/neural_network/_multilayer_perceptron.py:500: ConvergenceWarning: lbfgs failed to converge (status=1):\n",
      "STOP: TOTAL NO. of ITERATIONS REACHED LIMIT.\n",
      "\n",
      "Increase the number of iterations (max_iter) or scale the data as shown in:\n",
      "    https://scikit-learn.org/stable/modules/preprocessing.html\n",
      "  self.n_iter_ = _check_optimize_result(\"lbfgs\", opt_res, self.max_iter)\n",
      "/Users/omar/opt/anaconda3/lib/python3.8/site-packages/sklearn/neural_network/_multilayer_perceptron.py:500: ConvergenceWarning: lbfgs failed to converge (status=1):\n",
      "STOP: TOTAL NO. of ITERATIONS REACHED LIMIT.\n",
      "\n",
      "Increase the number of iterations (max_iter) or scale the data as shown in:\n",
      "    https://scikit-learn.org/stable/modules/preprocessing.html\n",
      "  self.n_iter_ = _check_optimize_result(\"lbfgs\", opt_res, self.max_iter)\n",
      "/Users/omar/opt/anaconda3/lib/python3.8/site-packages/sklearn/neural_network/_multilayer_perceptron.py:500: ConvergenceWarning: lbfgs failed to converge (status=1):\n",
      "STOP: TOTAL NO. of ITERATIONS REACHED LIMIT.\n",
      "\n",
      "Increase the number of iterations (max_iter) or scale the data as shown in:\n",
      "    https://scikit-learn.org/stable/modules/preprocessing.html\n",
      "  self.n_iter_ = _check_optimize_result(\"lbfgs\", opt_res, self.max_iter)\n",
      "/Users/omar/opt/anaconda3/lib/python3.8/site-packages/sklearn/neural_network/_multilayer_perceptron.py:500: ConvergenceWarning: lbfgs failed to converge (status=1):\n",
      "STOP: TOTAL NO. of ITERATIONS REACHED LIMIT.\n",
      "\n",
      "Increase the number of iterations (max_iter) or scale the data as shown in:\n",
      "    https://scikit-learn.org/stable/modules/preprocessing.html\n",
      "  self.n_iter_ = _check_optimize_result(\"lbfgs\", opt_res, self.max_iter)\n",
      "/Users/omar/opt/anaconda3/lib/python3.8/site-packages/sklearn/neural_network/_multilayer_perceptron.py:500: ConvergenceWarning: lbfgs failed to converge (status=1):\n",
      "STOP: TOTAL NO. of ITERATIONS REACHED LIMIT.\n",
      "\n",
      "Increase the number of iterations (max_iter) or scale the data as shown in:\n",
      "    https://scikit-learn.org/stable/modules/preprocessing.html\n",
      "  self.n_iter_ = _check_optimize_result(\"lbfgs\", opt_res, self.max_iter)\n",
      "/Users/omar/opt/anaconda3/lib/python3.8/site-packages/sklearn/neural_network/_multilayer_perceptron.py:500: ConvergenceWarning: lbfgs failed to converge (status=1):\n",
      "STOP: TOTAL NO. of ITERATIONS REACHED LIMIT.\n",
      "\n",
      "Increase the number of iterations (max_iter) or scale the data as shown in:\n",
      "    https://scikit-learn.org/stable/modules/preprocessing.html\n",
      "  self.n_iter_ = _check_optimize_result(\"lbfgs\", opt_res, self.max_iter)\n"
     ]
    },
    {
     "name": "stdout",
     "output_type": "stream",
     "text": [
      "[0.82222222 0.78651685 0.7752809  0.84269663 0.83146067 0.7752809\n",
      " 0.79775281 0.78651685 0.84269663 0.79775281]\n"
     ]
    },
    {
     "name": "stderr",
     "output_type": "stream",
     "text": [
      "/Users/omar/opt/anaconda3/lib/python3.8/site-packages/sklearn/neural_network/_multilayer_perceptron.py:500: ConvergenceWarning: lbfgs failed to converge (status=1):\n",
      "STOP: TOTAL NO. of ITERATIONS REACHED LIMIT.\n",
      "\n",
      "Increase the number of iterations (max_iter) or scale the data as shown in:\n",
      "    https://scikit-learn.org/stable/modules/preprocessing.html\n",
      "  self.n_iter_ = _check_optimize_result(\"lbfgs\", opt_res, self.max_iter)\n"
     ]
    },
    {
     "data": {
      "text/plain": [
       "0.8058177278401999"
      ]
     },
     "execution_count": 18,
     "metadata": {},
     "output_type": "execute_result"
    }
   ],
   "source": [
    "all_10_accuracy_nn = cross_val_score(nn_clf, X_nn, y_nn, cv=10)\n",
    "print(all_10_accuracy_nn)\n",
    "np.mean(all_10_accuracy_nn)"
   ]
  },
  {
   "cell_type": "code",
   "execution_count": 19,
   "id": "f3d459e6",
   "metadata": {},
   "outputs": [
    {
     "name": "stderr",
     "output_type": "stream",
     "text": [
      "/Users/omar/opt/anaconda3/lib/python3.8/site-packages/sklearn/neural_network/_multilayer_perceptron.py:500: ConvergenceWarning: lbfgs failed to converge (status=1):\n",
      "STOP: TOTAL NO. of ITERATIONS REACHED LIMIT.\n",
      "\n",
      "Increase the number of iterations (max_iter) or scale the data as shown in:\n",
      "    https://scikit-learn.org/stable/modules/preprocessing.html\n",
      "  self.n_iter_ = _check_optimize_result(\"lbfgs\", opt_res, self.max_iter)\n"
     ]
    }
   ],
   "source": [
    "# fit our NN classifier\n",
    "nn_clf.fit(X_nn, y_nn)\n",
    "\n",
    "# test our fit:\n",
    "Y_pred_nn = nn_clf.predict(X_nn)\n",
    "error_metric_nn = np.mean(np.square(Y_pred_nn-y_nn))"
   ]
  },
  {
   "cell_type": "code",
   "execution_count": 20,
   "id": "67394736",
   "metadata": {},
   "outputs": [
    {
     "data": {
      "text/plain": [
       "0.19079685746352412"
      ]
     },
     "execution_count": 20,
     "metadata": {},
     "output_type": "execute_result"
    }
   ],
   "source": [
    "error_metric_nn"
   ]
  },
  {
   "cell_type": "code",
   "execution_count": 21,
   "id": "d3433223",
   "metadata": {},
   "outputs": [],
   "source": [
    "Y_test_pred_nn = nn_clf.predict(X_test_nn)"
   ]
  },
  {
   "cell_type": "code",
   "execution_count": 22,
   "id": "9acef4e4",
   "metadata": {},
   "outputs": [],
   "source": [
    "predictions3 = pd.DataFrame(data={'PassengerId':test_data['PassengerId'], 'Survived': Y_test_pred_nn})"
   ]
  },
  {
   "cell_type": "code",
   "execution_count": null,
   "id": "fef7a0b1",
   "metadata": {},
   "outputs": [],
   "source": []
  },
  {
   "cell_type": "markdown",
   "id": "424e00df",
   "metadata": {},
   "source": [
    "## Starting a second NN"
   ]
  },
  {
   "cell_type": "code",
   "execution_count": 13,
   "id": "fbd11e5f",
   "metadata": {},
   "outputs": [],
   "source": [
    "# Getting the X and Y values to fit model\n",
    "vec2 = DictVectorizer()\n",
    "y_nn2 = np.array(train_data['Survived'])\n",
    "X_df_nn2 = train_data.drop(['Survived', 'Fare'], axis = 1)\n",
    "X_dict_nn2 = X_df_nn2.to_dict(\"records\")\n",
    "X_nn2 = vec2.fit_transform(X_dict_nn2).toarray()\n",
    "\n",
    "X_test_dict_nn2 = test_data[['Pclass','Sex','Family_num']].to_dict(\"records\")\n",
    "X_test_nn2 = vec2.fit_transform(X_test_dict_nn2).toarray()\n"
   ]
  },
  {
   "cell_type": "code",
   "execution_count": 14,
   "id": "98c65962",
   "metadata": {},
   "outputs": [
    {
     "data": {
      "text/plain": [
       "0.8047191011235956"
      ]
     },
     "execution_count": 14,
     "metadata": {},
     "output_type": "execute_result"
    }
   ],
   "source": [
    "\n",
    "neurons2 = 50\n",
    "nn_clf2 = MLPClassifier(hidden_layer_sizes=(neurons2), max_iter=300,\n",
    "                    solver='adam', verbose=False, random_state=42, activation='relu')\n",
    "\n",
    "np.mean(cross_val_score(nn_clf2, X_nn2, y_nn2, cv=10))"
   ]
  },
  {
   "cell_type": "code",
   "execution_count": 15,
   "id": "32829b34",
   "metadata": {},
   "outputs": [
    {
     "data": {
      "text/plain": [
       "0.19304152637485972"
      ]
     },
     "execution_count": 15,
     "metadata": {},
     "output_type": "execute_result"
    }
   ],
   "source": [
    "# fit our NN classifier\n",
    "nn_clf2.fit(X_nn, y_nn)\n",
    "\n",
    "# test our fit:\n",
    "Y_pred_nn2 = nn_clf2.predict(X_nn)\n",
    "error_metric_nn2 = np.mean(np.square(Y_pred_nn2-y_nn))\n",
    "error_metric_nn2"
   ]
  },
  {
   "cell_type": "code",
   "execution_count": 16,
   "id": "d5aadd33",
   "metadata": {},
   "outputs": [],
   "source": [
    "Y_test_pred_nn2 = nn_clf2.predict(X_test_nn)\n",
    "predictions4 = pd.DataFrame(data={'PassengerId':test_data['PassengerId'], 'Survived': Y_test_pred_nn2})"
   ]
  },
  {
   "cell_type": "code",
   "execution_count": 17,
   "id": "1bc802f4",
   "metadata": {},
   "outputs": [
    {
     "name": "stdout",
     "output_type": "stream",
     "text": [
      "Number of predictions that differ between NN models:  7\n"
     ]
    }
   ],
   "source": [
    "print(\"Number of predictions that differ between NN models: \", sum(abs(predictions4['Survived']-predictions3['Survived'])))\n"
   ]
  },
  {
   "cell_type": "code",
   "execution_count": null,
   "id": "83c15973",
   "metadata": {},
   "outputs": [],
   "source": []
  }
 ],
 "metadata": {
  "kernelspec": {
   "display_name": "Python 3",
   "language": "python",
   "name": "python3"
  },
  "language_info": {
   "codemirror_mode": {
    "name": "ipython",
    "version": 3
   },
   "file_extension": ".py",
   "mimetype": "text/x-python",
   "name": "python",
   "nbconvert_exporter": "python",
   "pygments_lexer": "ipython3",
   "version": "3.8.8"
  }
 },
 "nbformat": 4,
 "nbformat_minor": 5
}
