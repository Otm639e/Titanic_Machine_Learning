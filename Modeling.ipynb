{
 "cells": [
  {
   "cell_type": "code",
   "execution_count": 1,
   "id": "b2701a06",
   "metadata": {},
   "outputs": [],
   "source": [
    "%%capture\n",
    "%run Data_Cleaning_and_EDA.ipynb\n",
    "from sklearn.ensemble import BaggingClassifier"
   ]
  },
  {
   "cell_type": "code",
   "execution_count": 2,
   "id": "986469e9",
   "metadata": {},
   "outputs": [
    {
     "data": {
      "text/html": [
       "<div>\n",
       "<style scoped>\n",
       "    .dataframe tbody tr th:only-of-type {\n",
       "        vertical-align: middle;\n",
       "    }\n",
       "\n",
       "    .dataframe tbody tr th {\n",
       "        vertical-align: top;\n",
       "    }\n",
       "\n",
       "    .dataframe thead th {\n",
       "        text-align: right;\n",
       "    }\n",
       "</style>\n",
       "<table border=\"1\" class=\"dataframe\">\n",
       "  <thead>\n",
       "    <tr style=\"text-align: right;\">\n",
       "      <th></th>\n",
       "      <th>Survived</th>\n",
       "      <th>Pclass</th>\n",
       "      <th>Sex</th>\n",
       "      <th>Age</th>\n",
       "      <th>SibSp</th>\n",
       "      <th>Parch</th>\n",
       "      <th>Fare</th>\n",
       "      <th>C</th>\n",
       "      <th>Q</th>\n",
       "      <th>S</th>\n",
       "      <th>Dr</th>\n",
       "      <th>Master</th>\n",
       "      <th>Miss</th>\n",
       "      <th>Mr</th>\n",
       "      <th>Mrs</th>\n",
       "      <th>other</th>\n",
       "      <th>Total_Fam</th>\n",
       "    </tr>\n",
       "  </thead>\n",
       "  <tbody>\n",
       "    <tr>\n",
       "      <th>0</th>\n",
       "      <td>0</td>\n",
       "      <td>3</td>\n",
       "      <td>1</td>\n",
       "      <td>-0.557420</td>\n",
       "      <td>0.432793</td>\n",
       "      <td>-0.473674</td>\n",
       "      <td>-0.502445</td>\n",
       "      <td>0</td>\n",
       "      <td>0</td>\n",
       "      <td>1</td>\n",
       "      <td>0</td>\n",
       "      <td>0</td>\n",
       "      <td>0</td>\n",
       "      <td>1</td>\n",
       "      <td>0</td>\n",
       "      <td>0</td>\n",
       "      <td>0.059160</td>\n",
       "    </tr>\n",
       "    <tr>\n",
       "      <th>1</th>\n",
       "      <td>1</td>\n",
       "      <td>1</td>\n",
       "      <td>0</td>\n",
       "      <td>0.649410</td>\n",
       "      <td>0.432793</td>\n",
       "      <td>-0.473674</td>\n",
       "      <td>0.786845</td>\n",
       "      <td>1</td>\n",
       "      <td>0</td>\n",
       "      <td>0</td>\n",
       "      <td>0</td>\n",
       "      <td>0</td>\n",
       "      <td>0</td>\n",
       "      <td>0</td>\n",
       "      <td>1</td>\n",
       "      <td>0</td>\n",
       "      <td>0.059160</td>\n",
       "    </tr>\n",
       "    <tr>\n",
       "      <th>2</th>\n",
       "      <td>1</td>\n",
       "      <td>3</td>\n",
       "      <td>0</td>\n",
       "      <td>-0.255712</td>\n",
       "      <td>-0.474545</td>\n",
       "      <td>-0.473674</td>\n",
       "      <td>-0.488854</td>\n",
       "      <td>0</td>\n",
       "      <td>0</td>\n",
       "      <td>1</td>\n",
       "      <td>0</td>\n",
       "      <td>0</td>\n",
       "      <td>1</td>\n",
       "      <td>0</td>\n",
       "      <td>0</td>\n",
       "      <td>0</td>\n",
       "      <td>-0.560975</td>\n",
       "    </tr>\n",
       "  </tbody>\n",
       "</table>\n",
       "</div>"
      ],
      "text/plain": [
       "   Survived  Pclass  Sex       Age     SibSp     Parch      Fare  C  Q  S  Dr  \\\n",
       "0         0       3    1 -0.557420  0.432793 -0.473674 -0.502445  0  0  1   0   \n",
       "1         1       1    0  0.649410  0.432793 -0.473674  0.786845  1  0  0   0   \n",
       "2         1       3    0 -0.255712 -0.474545 -0.473674 -0.488854  0  0  1   0   \n",
       "\n",
       "   Master  Miss  Mr  Mrs  other  Total_Fam  \n",
       "0       0     0   1    0      0   0.059160  \n",
       "1       0     0   0    1      0   0.059160  \n",
       "2       0     1   0    0      0  -0.560975  "
      ]
     },
     "execution_count": 2,
     "metadata": {},
     "output_type": "execute_result"
    }
   ],
   "source": [
    "train_data.head(3)"
   ]
  },
  {
   "cell_type": "code",
   "execution_count": 3,
   "id": "9a2b1dc3",
   "metadata": {},
   "outputs": [
    {
     "data": {
      "text/html": [
       "<div>\n",
       "<style scoped>\n",
       "    .dataframe tbody tr th:only-of-type {\n",
       "        vertical-align: middle;\n",
       "    }\n",
       "\n",
       "    .dataframe tbody tr th {\n",
       "        vertical-align: top;\n",
       "    }\n",
       "\n",
       "    .dataframe thead th {\n",
       "        text-align: right;\n",
       "    }\n",
       "</style>\n",
       "<table border=\"1\" class=\"dataframe\">\n",
       "  <thead>\n",
       "    <tr style=\"text-align: right;\">\n",
       "      <th></th>\n",
       "      <th>PassengerId</th>\n",
       "      <th>Pclass</th>\n",
       "      <th>Sex</th>\n",
       "      <th>Age</th>\n",
       "      <th>SibSp</th>\n",
       "      <th>Parch</th>\n",
       "      <th>Fare</th>\n",
       "      <th>C</th>\n",
       "      <th>Q</th>\n",
       "      <th>S</th>\n",
       "      <th>Dr</th>\n",
       "      <th>Master</th>\n",
       "      <th>Miss</th>\n",
       "      <th>Mr</th>\n",
       "      <th>Mrs</th>\n",
       "      <th>other</th>\n",
       "      <th>Total_Fam</th>\n",
       "    </tr>\n",
       "  </thead>\n",
       "  <tbody>\n",
       "    <tr>\n",
       "      <th>0</th>\n",
       "      <td>892</td>\n",
       "      <td>3</td>\n",
       "      <td>1</td>\n",
       "      <td>0.373537</td>\n",
       "      <td>-0.499470</td>\n",
       "      <td>-0.400248</td>\n",
       "      <td>-0.497413</td>\n",
       "      <td>0</td>\n",
       "      <td>1</td>\n",
       "      <td>0</td>\n",
       "      <td>0</td>\n",
       "      <td>0</td>\n",
       "      <td>0</td>\n",
       "      <td>1</td>\n",
       "      <td>0</td>\n",
       "      <td>0</td>\n",
       "      <td>-0.553443</td>\n",
       "    </tr>\n",
       "    <tr>\n",
       "      <th>1</th>\n",
       "      <td>893</td>\n",
       "      <td>3</td>\n",
       "      <td>0</td>\n",
       "      <td>1.338307</td>\n",
       "      <td>0.616992</td>\n",
       "      <td>-0.400248</td>\n",
       "      <td>-0.512278</td>\n",
       "      <td>0</td>\n",
       "      <td>0</td>\n",
       "      <td>1</td>\n",
       "      <td>0</td>\n",
       "      <td>0</td>\n",
       "      <td>0</td>\n",
       "      <td>0</td>\n",
       "      <td>1</td>\n",
       "      <td>0</td>\n",
       "      <td>0.105643</td>\n",
       "    </tr>\n",
       "    <tr>\n",
       "      <th>2</th>\n",
       "      <td>894</td>\n",
       "      <td>2</td>\n",
       "      <td>1</td>\n",
       "      <td>2.496032</td>\n",
       "      <td>-0.499470</td>\n",
       "      <td>-0.400248</td>\n",
       "      <td>-0.464100</td>\n",
       "      <td>0</td>\n",
       "      <td>1</td>\n",
       "      <td>0</td>\n",
       "      <td>0</td>\n",
       "      <td>0</td>\n",
       "      <td>0</td>\n",
       "      <td>1</td>\n",
       "      <td>0</td>\n",
       "      <td>0</td>\n",
       "      <td>-0.553443</td>\n",
       "    </tr>\n",
       "  </tbody>\n",
       "</table>\n",
       "</div>"
      ],
      "text/plain": [
       "   PassengerId  Pclass  Sex       Age     SibSp     Parch      Fare  C  Q  S  \\\n",
       "0          892       3    1  0.373537 -0.499470 -0.400248 -0.497413  0  1  0   \n",
       "1          893       3    0  1.338307  0.616992 -0.400248 -0.512278  0  0  1   \n",
       "2          894       2    1  2.496032 -0.499470 -0.400248 -0.464100  0  1  0   \n",
       "\n",
       "   Dr  Master  Miss  Mr  Mrs  other  Total_Fam  \n",
       "0   0       0     0   1    0      0  -0.553443  \n",
       "1   0       0     0   0    1      0   0.105643  \n",
       "2   0       0     0   1    0      0  -0.553443  "
      ]
     },
     "execution_count": 3,
     "metadata": {},
     "output_type": "execute_result"
    }
   ],
   "source": [
    "test_data.head(3)"
   ]
  },
  {
   "cell_type": "code",
   "execution_count": 4,
   "id": "d2bd39fa",
   "metadata": {},
   "outputs": [],
   "source": [
    "# Turinging our training and test sets to matrices to fit in our models\n",
    "X_train = train_data.drop(['Survived', 'Miss', 'Mr', 'Mrs', 'other'], axis=1).to_numpy()\n",
    "X_test = test_data.drop(['Miss', 'Mr', 'Mrs', 'other', 'PassengerId'], axis=1).to_numpy()\n",
    "X_train2 = train_data.drop(['Survived'], axis=1).to_numpy()\n",
    "X_test2 = test_data.drop(['PassengerId'], axis=1).to_numpy()\n",
    "Y_train = train_data['Survived'].to_numpy()\n"
   ]
  },
  {
   "cell_type": "code",
   "execution_count": 5,
   "id": "7d6bf188",
   "metadata": {},
   "outputs": [
    {
     "name": "stdout",
     "output_type": "stream",
     "text": [
      "Logistic R:  0.8283021223470662\n"
     ]
    }
   ],
   "source": [
    "# Creating our Logistic Model\n",
    "logistic_model = LogisticRegression(random_state=42).fit(X_train2, Y_train)\n",
    "print(\"Logistic R: \", np.mean(cross_val_score(logistic_model, X_train2, Y_train, cv=10)))\n",
    "logistic_predictions = logistic_model.predict(X_test2)\n"
   ]
  },
  {
   "cell_type": "code",
   "execution_count": 6,
   "id": "0bbfd7a3",
   "metadata": {},
   "outputs": [
    {
     "name": "stdout",
     "output_type": "stream",
     "text": [
      "Random F:  0.8327840199750313\n"
     ]
    }
   ],
   "source": [
    "# Creating our Random Forest Model\n",
    "RF_model = RandomForestClassifier(n_estimators=300, bootstrap=True, max_depth=3, max_features=7, criterion='entropy', max_samples=0.8, random_state=42).fit(X_train2, Y_train)\n",
    "print(\"Random F: \", np.mean(cross_val_score(RF_model, X_train2, Y_train, cv=10)))\n",
    "Random_Forest_predictions = RF_model.predict(X_test2)\n"
   ]
  },
  {
   "cell_type": "code",
   "execution_count": 7,
   "id": "47826605",
   "metadata": {},
   "outputs": [
    {
     "name": "stdout",
     "output_type": "stream",
     "text": [
      "Ada B:  0.8350686641697879\n"
     ]
    }
   ],
   "source": [
    "# Creating our AdaBoost Model using decision trees\n",
    "Ada_Boost_model = AdaBoostClassifier(base_estimator=tree.DecisionTreeClassifier(max_depth=3), n_estimators=300, algorithm='SAMME', random_state=42).fit(X_train2, Y_train)\n",
    "print(\"Ada B: \", np.mean(cross_val_score(Ada_Boost_model, X_train2, Y_train, cv=10)))\n",
    "Ada_Boost_predictions = Ada_Boost_model.predict(X_test2)\n"
   ]
  },
  {
   "cell_type": "code",
   "execution_count": 8,
   "id": "3da1206f",
   "metadata": {},
   "outputs": [
    {
     "name": "stdout",
     "output_type": "stream",
     "text": [
      "KNeighbors:  0.8305493133583021\n"
     ]
    }
   ],
   "source": [
    "# Creating our Bagging Model using K-Neighbors \n",
    "KNeighbors_model = BaggingClassifier(KNeighborsClassifier(n_neighbors=7, leaf_size=3, p=1), max_samples=0.5, max_features=0.5, n_estimators=200, random_state=42).fit(X_train2, Y_train)\n",
    "print(\"KNeighbors: \", np.mean(cross_val_score(KNeighbors_model, X_train2, Y_train, cv=10)))\n",
    "KNeighbors_predictions = KNeighbors_model.predict(X_test2)\n"
   ]
  },
  {
   "cell_type": "code",
   "execution_count": 9,
   "id": "f89cf0e1",
   "metadata": {},
   "outputs": [
    {
     "name": "stdout",
     "output_type": "stream",
     "text": [
      "Multiple Linear R:  0.4026925688214001\n",
      "Multiple Linear R train:  0.8327721661054994\n"
     ]
    }
   ],
   "source": [
    "# Creating our Multiple Regression Model\n",
    "Multiple_Reg_model = LinearRegression().fit(X_train2, Y_train)\n",
    "Multiple_Reg_predictions = Multiple_Reg_model.predict(X_train2)\n",
    "Multiple_Reg_predictions = [1 if x>=0.5 else 0 for x in Multiple_Reg_predictions]\n",
    "print(\"Multiple Linear R: \", np.mean(cross_val_score(Multiple_Reg_model, X_train2, Y_train, cv=10)))\n",
    "print(\"Multiple Linear R train: \", sklearn.metrics.accuracy_score(Multiple_Reg_predictions, train_data['Survived'].to_numpy()))\n",
    "\n",
    "Multiple_Reg_predictions_test = Multiple_Reg_model.predict(X_test2)\n",
    "Multiple_Reg_predictions_test = [1 if x>=0.5 else 0 for x in Multiple_Reg_predictions_test]\n"
   ]
  },
  {
   "cell_type": "code",
   "execution_count": 10,
   "id": "da28fd9e",
   "metadata": {},
   "outputs": [],
   "source": [
    "# Creating the predictions dataframes\n",
    "predictionsdf_LR = pd.DataFrame(data={'PassengerId':test_data['PassengerId'], 'Survived': logistic_predictions})\n",
    "predictionsdf_RF = pd.DataFrame(data={'PassengerId':test_data['PassengerId'], 'Survived': Random_Forest_predictions})\n",
    "predictionsdf_AB = pd.DataFrame(data={'PassengerId':test_data['PassengerId'], 'Survived': Ada_Boost_predictions})\n",
    "predictionsdf_KN = pd.DataFrame(data={'PassengerId':test_data['PassengerId'], 'Survived': KNeighbors_predictions})\n",
    "predictionsdf_MR = pd.DataFrame(data={'PassengerId':test_data['PassengerId'], 'Survived': Multiple_Reg_predictions_test})\n",
    "\n",
    "\n",
    "\n"
   ]
  },
  {
   "cell_type": "code",
   "execution_count": 11,
   "id": "c24b1288",
   "metadata": {},
   "outputs": [],
   "source": [
    "# exporting my csv file\n",
    "# predictionsdf_LR.to_csv('pred5.csv', index=False)"
   ]
  },
  {
   "cell_type": "code",
   "execution_count": null,
   "id": "c41fa85a",
   "metadata": {},
   "outputs": [],
   "source": []
  }
 ],
 "metadata": {
  "kernelspec": {
   "display_name": "Python 3",
   "language": "python",
   "name": "python3"
  },
  "language_info": {
   "codemirror_mode": {
    "name": "ipython",
    "version": 3
   },
   "file_extension": ".py",
   "mimetype": "text/x-python",
   "name": "python",
   "nbconvert_exporter": "python",
   "pygments_lexer": "ipython3",
   "version": "3.8.8"
  }
 },
 "nbformat": 4,
 "nbformat_minor": 5
}
